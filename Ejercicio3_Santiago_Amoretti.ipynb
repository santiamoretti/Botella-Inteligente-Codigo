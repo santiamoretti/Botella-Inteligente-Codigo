{
 "cells": [
  {
   "cell_type": "markdown",
   "id": "911f8c75-dd75-4a5f-8a75-0622d6fbae03",
   "metadata": {},
   "source": [
    "Primero, creamos la funcion base10_a_base8 que toma un parámetro un número en base 10. Luego, dentro de esta, verificamos si el número dado es negativo o no es un número entero. Si cualquiera de estas condiciones es verdadera, se indicara un error. Luego, decimos que si el número dado es igual a cero, eso significa que el número en base 8 también será cero, por lo que la función devuelve simplemente 0. Posteriormente, incializamos la variable donde almacenarmos el resultado final. Luego, en un bucle while, se divide el número en base 10 por 8 y se toma el residuo de cada división. Este residuo se agrega al comienzo de la cadena que mencionamos anteriormente resultado. Luego, el número en base 10 se actualiza dividiéndolo entero por 8. Todo esto hasta que el número en base 10 llega a ser cero. Una vez que el bucle ha terminado y se ha construido la cadena resultado con los dígitos en base 8, se devuelve como el resultado de la función. La función base8_a_base10 sigue una lógica similar y utiliza una mezcla de operaciones matemáticas y manipulación de cadenas para convertir un número en base 8 a base 10.\n",
    "\n",
    "Para la funcion base8_a_base10, se sigue una logica similar, pero ahora de de la base octal a la base decimal.. Primero, decimos que si el número proporcionado es negativo o no es un entero, se genera un ValueError. El código recorre cada dígito del número en base 8, los convierte a enteros y los multiplica por la potencia correspondiente de 8. Luego, suma los resultados para obtener el valor en base 10. Finalmente, tambien siguiendo la linea del anterior devolvemos el resultado"
   ]
  },
  {
   "cell_type": "code",
   "execution_count": null,
   "id": "ddfce29a-989d-4466-a193-9af6a304c911",
   "metadata": {},
   "outputs": [],
   "source": [
    "def base10_a_base8(numero_base10):\n",
    "    if numero_base10 < 0 or numero_base10 % 1 != 0:\n",
    "        raise ValueError('Tiene que ser un entero no negativo.')\n",
    "    \n",
    "    if numero_base10 == 0:\n",
    "        return '0'\n",
    "    \n",
    "    resultado = ''\n",
    "    while numero_base10 > 0:\n",
    "        resultado = str(numero_base10 % 8) + resultado\n",
    "        numero_base10 //= 8\n",
    "    \n",
    "    return resultado\n",
    "\n",
    "def base8_a_base10(numero_base8):\n",
    "    if numero_base8 < 0 or numero_base8 % 1 != 0:\n",
    "        raise ValueError('Tiene que ser un entero no negativo.')\n",
    "    \n",
    "    numero_base8_str = str(numero_base8)\n",
    "    longitud = len(numero_base8_str)\n",
    "    \n",
    "    resultado = 0\n",
    "    for i in range(longitud):\n",
    "        digito = int(numero_base8_str[i])\n",
    "        resultado += digito * (8 ** (longitud - i - 1))\n",
    "    \n",
    "    return resultado\n",
    "\n",
    "\n",
    "print(base10_a_base8(65)) \n",
    "print(base8_a_base10(101))\n"
   ]
  }
 ],
 "metadata": {
  "kernelspec": {
   "display_name": "Python 3 (ipykernel)",
   "language": "python",
   "name": "python3"
  },
  "language_info": {
   "codemirror_mode": {
    "name": "ipython",
    "version": 3
   },
   "file_extension": ".py",
   "mimetype": "text/x-python",
   "name": "python",
   "nbconvert_exporter": "python",
   "pygments_lexer": "ipython3",
   "version": "3.9.7"
  }
 },
 "nbformat": 4,
 "nbformat_minor": 5
}
